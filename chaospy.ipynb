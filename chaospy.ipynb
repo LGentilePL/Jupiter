{
 "cells": [
  {
   "cell_type": "code",
   "execution_count": 14,
   "id": "played-commercial",
   "metadata": {},
   "outputs": [
    {
     "name": "stdout",
     "output_type": "stream",
     "text": [
      "Requirement already satisfied: chaospy==3.2.0 in /srv/conda/envs/notebook/lib/python3.7/site-packages (3.2.0)\n",
      "Requirement already satisfied: numpoly in /srv/conda/envs/notebook/lib/python3.7/site-packages (from chaospy==3.2.0) (1.2.3)\n",
      "Requirement already satisfied: scipy in /srv/conda/envs/notebook/lib/python3.7/site-packages (from chaospy==3.2.0) (1.7.0)\n",
      "Requirement already satisfied: numpy in /srv/conda/envs/notebook/lib/python3.7/site-packages (from chaospy==3.2.0) (1.20.3)\n",
      "Requirement already satisfied: matplotlib in /srv/conda/envs/notebook/lib/python3.7/site-packages (3.4.2)\n",
      "Requirement already satisfied: kiwisolver>=1.0.1 in /srv/conda/envs/notebook/lib/python3.7/site-packages (from matplotlib) (1.3.1)\n",
      "Requirement already satisfied: pillow>=6.2.0 in /srv/conda/envs/notebook/lib/python3.7/site-packages (from matplotlib) (8.2.0)\n",
      "Requirement already satisfied: pyparsing>=2.2.1 in /srv/conda/envs/notebook/lib/python3.7/site-packages (from matplotlib) (2.4.7)\n",
      "Requirement already satisfied: cycler>=0.10 in /srv/conda/envs/notebook/lib/python3.7/site-packages (from matplotlib) (0.10.0)\n",
      "Requirement already satisfied: python-dateutil>=2.7 in /srv/conda/envs/notebook/lib/python3.7/site-packages (from matplotlib) (2.8.1)\n",
      "Requirement already satisfied: numpy>=1.16 in /srv/conda/envs/notebook/lib/python3.7/site-packages (from matplotlib) (1.20.3)\n",
      "Requirement already satisfied: six in /srv/conda/envs/notebook/lib/python3.7/site-packages (from cycler>=0.10->matplotlib) (1.15.0)\n"
     ]
    }
   ],
   "source": [
    "import numpy\n",
    "import sys\n",
    "!{sys.executable} -m pip install chaospy==3.2.0\n",
    "!{sys.executable} -m pip install matplotlib\n",
    "import chaospy\n",
    "from scipy.integrate import odeint\n",
    "from matplotlib import pyplot"
   ]
  },
  {
   "cell_type": "code",
   "execution_count": 15,
   "id": "helpful-participant",
   "metadata": {},
   "outputs": [],
   "source": [
    "class CoffeeCup:\n",
    "    def __init__(self, time_points, max_time):\n",
    "        self.time_points = time_points\n",
    "        self.max_time = max_time\n",
    "\n",
    "    def solve(self, T_0,kappa,T_env):\n",
    "        time = numpy.linspace(0, self.time_points, self.max_time)  # Minutes\n",
    "\n",
    "        # The equation describing the model\n",
    "        def f(T, time, kappa, T_env):\n",
    "            return -kappa * (T - T_env)\n",
    "\n",
    "        # Solving the equation by integration\n",
    "        temperature = odeint(f, T_0, time, args=(kappa, T_env))[:, 0]\n",
    "        return temperature\n",
    "    def exact(self, U_0, a):\n",
    "        return U_0 * numpy.exp(a * self.x)"
   ]
  },
  {
   "cell_type": "code",
   "execution_count": 16,
   "id": "previous-doctor",
   "metadata": {},
   "outputs": [],
   "source": [
    "def run_solver(kappa, T_env):\n",
    "\n",
    "    max_time, time_points, T_0 = 150, 200, 95\n",
    "    model = CoffeeCup(time_points, max_time)\n",
    "    solutions = model.solve(T_0, kappa, T_env)\n",
    "    return [solutions[10],solutions[-1]]\n"
   ]
  },
  {
   "cell_type": "code",
   "execution_count": 22,
   "id": "homeless-witness",
   "metadata": {},
   "outputs": [],
   "source": [
    "order = 3"
   ]
  },
  {
   "cell_type": "code",
   "execution_count": 23,
   "id": "mediterranean-mercy",
   "metadata": {},
   "outputs": [
    {
     "name": "stdout",
     "output_type": "stream",
     "text": [
      "[1.0 q1-20.0 q0-0.05 q1**2-40.0*q1+391.6666666666667\n",
      " q0*q1-0.05*q1-20.0*q0+1.0 q0**2-0.1*q0+0.002291666666666667\n",
      " q1**3-60.0*q1**2+1185.0*q1-7700.000000000001\n",
      " q0*q1**2-0.05*q1**2-40.0*q0*q1+2.0*q1+391.6666666666667*q0-19.583333333333336\n",
      " q0**2*q1-0.1*q0*q1-20.0*q0**2+0.002291666666666667*q1+2.0*q0-0.045833333333333344\n",
      " q0**3-0.15000000000000002*q0**2+0.007125000000000002*q0-0.00010625000000000002]\n"
     ]
    }
   ],
   "source": [
    "kappa_dist ,T_env_dist = chaospy.Uniform(0.025, 0.075), chaospy.Uniform(15, 25)\n",
    "joint = chaospy.J(kappa_dist, T_env_dist)\n",
    "ort = chaospy.orth_ttr(order,joint)\n",
    "print(ort)\n",
    "\n",
    "#kappa_dist     = chaospy.Normal(0, 1)\n",
    "#T_env_dist     = chaospy.Normal(0, 1)\n"
   ]
  },
  {
   "cell_type": "code",
   "execution_count": 24,
   "id": "emotional-departure",
   "metadata": {},
   "outputs": [
    {
     "name": "stdout",
     "output_type": "stream",
     "text": [
      "[1.0 q1-15.0 q0-0.05 q1**2-30.0*q1-400.0 q0*q1-0.05*q1-15.0*q0+0.75\n",
      " q0**2-0.1*q0+0.002291666666666667 q1**3-45.0*q1**2-1200.0*q1+24750.0\n",
      " q0*q1**2-0.05*q1**2-30.0*q0*q1+1.5*q1-400.0*q0+20.0\n",
      " q0**2*q1-0.1*q0*q1-15.0*q0**2+0.002291666666666667*q1+1.5*q0-0.03437500000000001\n",
      " q0**3-0.15000000000000002*q0**2+0.007125000000000002*q0-0.00010625000000000002]\n"
     ]
    }
   ],
   "source": [
    "kappa_dist ,T_env_dist = chaospy.Uniform(0.025, 0.075), chaospy.Normal(15, 25)\n",
    "joint = chaospy.J(kappa_dist, T_env_dist)\n",
    "ort = chaospy.orth_ttr(order,joint)\n",
    "print(ort)"
   ]
  },
  {
   "cell_type": "code",
   "execution_count": 25,
   "id": "lesser-supervision",
   "metadata": {},
   "outputs": [],
   "source": [
    "joint = chaospy.J(kappa_dist, T_env_dist)\n",
    "nodes, weights = chaospy.generate_quadrature(order, joint, rule=\"gaussian\")\n",
    "gauss_evals = numpy.array([run_solver(node[0],node[1]) for node in nodes.T])\n",
    "quad = chaospy.fit_quadrature(ort, nodes, weights, gauss_evals)"
   ]
  },
  {
   "cell_type": "code",
   "execution_count": 26,
   "id": "handed-surface",
   "metadata": {},
   "outputs": [
    {
     "data": {
      "text/plain": [
       "<matplotlib.collections.PathCollection at 0x7fcbd9fcca10>"
      ]
     },
     "execution_count": 26,
     "metadata": {},
     "output_type": "execute_result"
    },
    {
     "data": {
      "image/png": "[encoded data removed]",
      "text/plain": [
       "<Figure size 432x288 with 1 Axes>"
      ]
     },
     "metadata": {
      "needs_background": "light"
     },
     "output_type": "display_data"
    }
   ],
   "source": [
    "pyplot.scatter(*nodes, s=weights*1e3)"
   ]
  },
  {
   "cell_type": "code",
   "execution_count": 29,
   "id": "million-slide",
   "metadata": {},
   "outputs": [
    {
     "name": "stdout",
     "output_type": "stream",
     "text": [
      "[-46.417*q0**2*q1-16561.2*q0**3+11.58*q0*q1+6893.761*q0**2+0.026*q1-1218.096*q0+94.295\n",
      " -3.973*q0**2*q1-13088.743*q0**3+0.461*q0*q1+2340.763*q0**2+0.987*q1-137.051*q0+2.622]\n"
     ]
    }
   ],
   "source": [
    "print(quad.round(3))"
   ]
  },
  {
   "cell_type": "code",
   "execution_count": null,
   "id": "accurate-burns",
   "metadata": {},
   "outputs": [],
   "source": []
  }
 ],
 "metadata": {
  "kernelspec": {
   "display_name": "Python 3",
   "language": "python",
   "name": "python3"
  },
  "language_info": {
   "codemirror_mode": {
    "name": "ipython",
    "version": 3
   },
   "file_extension": ".py",
   "mimetype": "text/x-python",
   "name": "python",
   "nbconvert_exporter": "python",
   "pygments_lexer": "ipython3",
   "version": "3.7.10"
  }
 },
 "nbformat": 4,
 "nbformat_minor": 5
}
