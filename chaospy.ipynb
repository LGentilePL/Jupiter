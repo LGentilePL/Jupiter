{
 "cells": [
  {
   "cell_type": "code",
   "execution_count": 2,
   "id": "played-commercial",
   "metadata": {},
   "outputs": [
    {
     "name": "stdout",
     "output_type": "stream",
     "text": [
      "Collecting chaospy==3.2.0\n",
      "  Downloading chaospy-3.2.0-py2.py3-none-any.whl (236 kB)\n",
      "\u001b[K     |████████████████████████████████| 236 kB 3.9 MB/s eta 0:00:01\n",
      "\u001b[?25hCollecting numpy\n",
      "  Downloading numpy-1.20.3-cp37-cp37m-manylinux_2_12_x86_64.manylinux2010_x86_64.whl (15.3 MB)\n",
      "\u001b[K     |████████████████████████████████| 15.3 MB 8.3 MB/s eta 0:00:01\n",
      "\u001b[?25hCollecting scipy\n",
      "  Downloading scipy-1.7.0-cp37-cp37m-manylinux_2_5_x86_64.manylinux1_x86_64.whl (28.5 MB)\n",
      "\u001b[K     |████████████████████████████████| 28.5 MB 97 kB/s s eta 0:00:01     |████████████████████████████▋   | 25.5 MB 29.2 MB/s eta 0:00:01\n",
      "\u001b[?25hCollecting numpoly\n",
      "  Downloading numpoly-1.2.3-py3-none-any.whl (147 kB)\n",
      "\u001b[K     |████████████████████████████████| 147 kB 46.3 MB/s eta 0:00:01\n",
      "\u001b[?25hInstalling collected packages: numpy, scipy, numpoly, chaospy\n",
      "Successfully installed chaospy-3.2.0 numpoly-1.2.3 numpy-1.20.3 scipy-1.7.0\n",
      "Collecting matplotlib\n",
      "  Downloading matplotlib-3.4.2-cp37-cp37m-manylinux1_x86_64.whl (10.3 MB)\n",
      "\u001b[K     |████████████████████████████████| 10.3 MB 4.5 MB/s eta 0:00:01\n",
      "\u001b[?25hRequirement already satisfied: python-dateutil>=2.7 in /srv/conda/envs/notebook/lib/python3.7/site-packages (from matplotlib) (2.8.1)\n",
      "Collecting kiwisolver>=1.0.1\n",
      "  Downloading kiwisolver-1.3.1-cp37-cp37m-manylinux1_x86_64.whl (1.1 MB)\n",
      "\u001b[K     |████████████████████████████████| 1.1 MB 26.2 MB/s eta 0:00:01\n",
      "\u001b[?25hCollecting cycler>=0.10\n",
      "  Downloading cycler-0.10.0-py2.py3-none-any.whl (6.5 kB)\n",
      "Requirement already satisfied: pyparsing>=2.2.1 in /srv/conda/envs/notebook/lib/python3.7/site-packages (from matplotlib) (2.4.7)\n",
      "Collecting pillow>=6.2.0\n",
      "  Downloading Pillow-8.2.0-cp37-cp37m-manylinux1_x86_64.whl (3.0 MB)\n",
      "\u001b[K     |████████████████████████████████| 3.0 MB 33.6 MB/s eta 0:00:01\n",
      "\u001b[?25hRequirement already satisfied: numpy>=1.16 in /srv/conda/envs/notebook/lib/python3.7/site-packages (from matplotlib) (1.20.3)\n",
      "Requirement already satisfied: six in /srv/conda/envs/notebook/lib/python3.7/site-packages (from cycler>=0.10->matplotlib) (1.15.0)\n",
      "Installing collected packages: pillow, kiwisolver, cycler, matplotlib\n",
      "Successfully installed cycler-0.10.0 kiwisolver-1.3.1 matplotlib-3.4.2 pillow-8.2.0\n",
      "Requirement already satisfied: numpy in /srv/conda/envs/notebook/lib/python3.7/site-packages (1.20.3)\n"
     ]
    }
   ],
   "source": [
    "\n",
    "import sys\n",
    "!{sys.executable} -m pip install chaospy==3.2.0\n",
    "!{sys.executable} -m pip install matplotlib\n",
    "!{sys.executable} -m pip install numpy\n",
    "import numpy\n",
    "import chaospy\n",
    "from scipy.integrate import odeint\n",
    "from matplotlib import pyplot"
   ]
  },
  {
   "cell_type": "code",
   "execution_count": 3,
   "id": "helpful-participant",
   "metadata": {},
   "outputs": [],
   "source": [
    "class CoffeeCup:\n",
    "    def __init__(self, time_points, max_time):\n",
    "        self.time_points = time_points\n",
    "        self.max_time = max_time\n",
    "\n",
    "    def solve(self, T_0,kappa,T_env):\n",
    "        time = numpy.linspace(0, self.time_points, self.max_time)  # Minutes\n",
    "\n",
    "        # The equation describing the model\n",
    "        def f(T, time, kappa, T_env):\n",
    "            return -kappa * (T - T_env)\n",
    "\n",
    "        # Solving the equation by integration\n",
    "        temperature = odeint(f, T_0, time, args=(kappa, T_env))[:, 0]\n",
    "        return temperature\n",
    "    def exact(self, U_0, a):\n",
    "        return U_0 * numpy.exp(a * self.x)"
   ]
  },
  {
   "cell_type": "code",
   "execution_count": 33,
   "id": "previous-doctor",
   "metadata": {},
   "outputs": [],
   "source": [
    "def run_solver(kappa, T_env):\n",
    "\n",
    "    max_time, time_points, T_0 = 150, 200, 95\n",
    "    model = CoffeeCup(time_points, max_time)\n",
    "    solutions = model.solve(T_0, kappa, T_env)\n",
    "    return [solutions[1],solutions[-1]]\n"
   ]
  },
  {
   "cell_type": "code",
   "execution_count": 34,
   "id": "mediterranean-mercy",
   "metadata": {},
   "outputs": [
    {
     "name": "stdout",
     "output_type": "stream",
     "text": [
      "[1.0 q1-20.0 q0]\n"
     ]
    }
   ],
   "source": [
    "order = 1\n",
    "kappa_dist ,T_env_dist = chaospy.Uniform(0.025, 0.075), chaospy.Uniform(15, 25)\n",
    "joint = chaospy.J(kappa_dist, T_env_dist)\n",
    "ort = chaospy.orth_ttr(order,joint)\n",
    "print(ort.round(1))"
   ]
  },
  {
   "cell_type": "code",
   "execution_count": 35,
   "id": "emotional-departure",
   "metadata": {},
   "outputs": [
    {
     "name": "stdout",
     "output_type": "stream",
     "text": [
      "[1.0 q1-15.0 q0]\n"
     ]
    }
   ],
   "source": [
    "kappa_dist ,T_env_dist = chaospy.Uniform(0.025, 0.075), chaospy.Normal(15, 1)\n",
    "joint = chaospy.J(kappa_dist, T_env_dist)\n",
    "ort = chaospy.orth_ttr(order,joint)\n",
    "print(ort.round(1))"
   ]
  },
  {
   "cell_type": "code",
   "execution_count": 36,
   "id": "lesser-supervision",
   "metadata": {},
   "outputs": [
    {
     "name": "stdout",
     "output_type": "stream",
     "text": [
      "nodes\n",
      "[[ 0.03556624  0.03556624  0.06443376  0.06443376]\n",
      " [14.         16.         14.         16.        ]]\n",
      "weigths\n",
      "[0.25 0.25 0.25 0.25]\n"
     ]
    },
    {
     "data": {
      "text/plain": [
       "<matplotlib.collections.PathCollection at 0x7fd1885be810>"
      ]
     },
     "execution_count": 36,
     "metadata": {},
     "output_type": "execute_result"
    },
    {
     "data": {
      "image/png": "[encoded data removed]",
      "text/plain": [
       "<Figure size 432x288 with 1 Axes>"
      ]
     },
     "metadata": {
      "needs_background": "light"
     },
     "output_type": "display_data"
    }
   ],
   "source": [
    "joint = chaospy.J(kappa_dist, T_env_dist)\n",
    "nodes, weights = chaospy.generate_quadrature(order, joint, rule=\"gaussian\")\n",
    "print(\"nodes\")\n",
    "print(nodes)\n",
    "print(\"weigths\")\n",
    "print(weights)\n",
    "pyplot.scatter(*nodes, s=weights*1e3)"
   ]
  },
  {
   "cell_type": "code",
   "execution_count": 37,
   "id": "handed-surface",
   "metadata": {},
   "outputs": [
    {
     "data": {
      "text/plain": [
       "polynomial([0.1*q1-100.4*q0+93.9, q1-2.2*q0+0.2])"
      ]
     },
     "execution_count": 37,
     "metadata": {},
     "output_type": "execute_result"
    }
   ],
   "source": [
    "gauss_evals = numpy.array([run_solver(node[0],node[1]) for node in nodes.T])\n",
    "quad = chaospy.fit_quadrature(ort, nodes, weights, gauss_evals)\n",
    "quad.round(1)"
   ]
  }
 ],
 "metadata": {
  "kernelspec": {
   "display_name": "Python 3",
   "language": "python",
   "name": "python3"
  },
  "language_info": {
   "codemirror_mode": {
    "name": "ipython",
    "version": 3
   },
   "file_extension": ".py",
   "mimetype": "text/x-python",
   "name": "python",
   "nbconvert_exporter": "python",
   "pygments_lexer": "ipython3",
   "version": "3.7.10"
  }
 },
 "nbformat": 4,
 "nbformat_minor": 5
}
