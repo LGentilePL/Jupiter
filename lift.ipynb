{
 "cells": [
  {
   "cell_type": "code",
   "execution_count": 1,
   "id": "hairy-seventh",
   "metadata": {},
   "outputs": [
    {
     "name": "stdout",
     "output_type": "stream",
     "text": [
      "Collecting matplotlib\n",
      "  Downloading matplotlib-3.4.2-cp37-cp37m-manylinux1_x86_64.whl (10.3 MB)\n",
      "\u001b[K     |████████████████████████████████| 10.3 MB 4.5 MB/s eta 0:00:01\n",
      "\u001b[?25hCollecting kiwisolver>=1.0.1\n",
      "  Downloading kiwisolver-1.3.1-cp37-cp37m-manylinux1_x86_64.whl (1.1 MB)\n",
      "\u001b[K     |████████████████████████████████| 1.1 MB 33.1 MB/s eta 0:00:01\n",
      "\u001b[?25hRequirement already satisfied: pyparsing>=2.2.1 in /srv/conda/envs/notebook/lib/python3.7/site-packages (from matplotlib) (2.4.7)\n",
      "Collecting numpy>=1.16\n",
      "  Downloading numpy-1.20.3-cp37-cp37m-manylinux_2_12_x86_64.manylinux2010_x86_64.whl (15.3 MB)\n",
      "\u001b[K     |████████████████████████████████| 15.3 MB 78.8 MB/s eta 0:00:01\n",
      "\u001b[?25hCollecting pillow>=6.2.0\n",
      "  Downloading Pillow-8.2.0-cp37-cp37m-manylinux1_x86_64.whl (3.0 MB)\n",
      "\u001b[K     |████████████████████████████████| 3.0 MB 57.5 MB/s eta 0:00:01\n",
      "\u001b[?25hCollecting cycler>=0.10\n",
      "  Downloading cycler-0.10.0-py2.py3-none-any.whl (6.5 kB)\n",
      "Requirement already satisfied: python-dateutil>=2.7 in /srv/conda/envs/notebook/lib/python3.7/site-packages (from matplotlib) (2.8.1)\n",
      "Requirement already satisfied: six in /srv/conda/envs/notebook/lib/python3.7/site-packages (from cycler>=0.10->matplotlib) (1.15.0)\n",
      "Installing collected packages: pillow, numpy, kiwisolver, cycler, matplotlib\n",
      "Successfully installed cycler-0.10.0 kiwisolver-1.3.1 matplotlib-3.4.2 numpy-1.20.3 pillow-8.2.0\n",
      "Collecting chaospy\n",
      "  Downloading chaospy-4.3.2-py3-none-any.whl (247 kB)\n",
      "\u001b[K     |████████████████████████████████| 247 kB 4.7 MB/s eta 0:00:01\n",
      "\u001b[?25hCollecting scipy\n",
      "  Downloading scipy-1.6.3-cp37-cp37m-manylinux1_x86_64.whl (27.4 MB)\n",
      "\u001b[K     |████████████████████████████████| 27.4 MB 62.6 MB/s eta 0:00:01\n",
      "\u001b[?25hCollecting numpoly<2.0.0,>=1.1.2\n",
      "  Downloading numpoly-1.2.3-py3-none-any.whl (147 kB)\n",
      "\u001b[K     |████████████████████████████████| 147 kB 96.3 MB/s eta 0:00:01\n",
      "\u001b[?25hRequirement already satisfied: numpy in /srv/conda/envs/notebook/lib/python3.7/site-packages (from chaospy) (1.20.3)\n",
      "Installing collected packages: scipy, numpoly, chaospy\n",
      "Successfully installed chaospy-4.3.2 numpoly-1.2.3 scipy-1.6.3\n"
     ]
    },
    {
     "ename": "ImportError",
     "evalue": "cannot import name 'hist' from 'matplotlib' (/srv/conda/envs/notebook/lib/python3.7/site-packages/matplotlib/__init__.py)",
     "output_type": "error",
     "traceback": [
      "\u001b[0;31m---------------------------------------------------------------------------\u001b[0m",
      "\u001b[0;31mImportError\u001b[0m                               Traceback (most recent call last)",
      "\u001b[0;32m<ipython-input-1-4c1b1a6460e5>\u001b[0m in \u001b[0;36m<module>\u001b[0;34m\u001b[0m\n\u001b[1;32m      5\u001b[0m \u001b[0;32mimport\u001b[0m \u001b[0mchaospy\u001b[0m \u001b[0;32mas\u001b[0m \u001b[0mch\u001b[0m\u001b[0;34m\u001b[0m\u001b[0;34m\u001b[0m\u001b[0m\n\u001b[1;32m      6\u001b[0m \u001b[0;32mfrom\u001b[0m \u001b[0mmatplotlib\u001b[0m \u001b[0;32mimport\u001b[0m \u001b[0mpyplot\u001b[0m\u001b[0;34m\u001b[0m\u001b[0;34m\u001b[0m\u001b[0m\n\u001b[0;32m----> 7\u001b[0;31m \u001b[0;32mfrom\u001b[0m \u001b[0mmatplotlib\u001b[0m \u001b[0;32mimport\u001b[0m \u001b[0mhist\u001b[0m\u001b[0;34m\u001b[0m\u001b[0;34m\u001b[0m\u001b[0m\n\u001b[0m",
      "\u001b[0;31mImportError\u001b[0m: cannot import name 'hist' from 'matplotlib' (/srv/conda/envs/notebook/lib/python3.7/site-packages/matplotlib/__init__.py)"
     ]
    }
   ],
   "source": [
    "import sys\n",
    "!{sys.executable} -m pip install matplotlib\n",
    "!{sys.executable} -m pip install chaospy\n",
    "import numpy\n",
    "import chaospy as ch\n",
    "from matplotlib import pyplot"
   ]
  },
  {
   "cell_type": "code",
   "execution_count": 234,
   "id": "temporal-ideal",
   "metadata": {},
   "outputs": [],
   "source": [
    "class liftComp(): \n",
    "    def __init__(self,Cl,A,rho):\n",
    "        self.CL = Cl\n",
    "        self.A = A\n",
    "        self.rho = rho\n",
    "    def compute(self,v):\n",
    "        return .5 * self.CL * self.A * self.rho * v**2\n",
    "    \n",
    "class liftComp2(): \n",
    "    def __init__(self,Cl,A,v):\n",
    "        self.CL = Cl\n",
    "        self.A = A\n",
    "        self.v = v\n",
    "    def compute(self,rho):\n",
    "        return .5 * self.CL * self.A * rho * self.v**2\n"
   ]
  },
  {
   "cell_type": "code",
   "execution_count": 287,
   "id": "assured-sandwich",
   "metadata": {},
   "outputs": [],
   "source": [
    "distr1 = ch.Normal(5,1)\n",
    "distr2 = ch.Normal(1.2,0.1)\n",
    "distr  = distr2"
   ]
  },
  {
   "cell_type": "code",
   "execution_count": 288,
   "id": "compliant-opinion",
   "metadata": {},
   "outputs": [],
   "source": [
    "samples = distr.sample(1e4)\n",
    "obs = [lift.compute(i) for i in samples]"
   ]
  },
  {
   "cell_type": "code",
   "execution_count": 289,
   "id": "persistent-conclusion",
   "metadata": {},
   "outputs": [
    {
     "name": "stdout",
     "output_type": "stream",
     "text": [
      "E 0.870826472331022\n",
      "sd 0.145444128241012\n"
     ]
    },
    {
     "data": {
      "image/png": "[encoded data removed]",
      "text/plain": [
       "<Figure size 432x288 with 1 Axes>"
      ]
     },
     "metadata": {
      "needs_background": "light"
     },
     "output_type": "display_data"
    }
   ],
   "source": [
    "pyplot.hist(obs,bins=30)\n",
    "print(\"E \" + str(numpy.mean(obs)))\n",
    "print(\"sd \"+ str(numpy.std(obs)))"
   ]
  },
  {
   "cell_type": "code",
   "execution_count": 290,
   "id": "provincial-credit",
   "metadata": {},
   "outputs": [],
   "source": [
    "class quadrature():\n",
    "    def __init__(self,distr):\n",
    "        self.distr = distr \n",
    "    def makeQuadrature(self,order, rule=\"G\", growth=False):\n",
    "        self.rule = rule\n",
    "        self.order = order\n",
    "        self.growth =growth\n",
    "        if isinstance(order, list):\n",
    "            self.quadrature = [ch.generate_quadrature(ord, self.distr, rule=rule,growth= growth) for ord in order]\n",
    "        else:\n",
    "            self.quadrature = ch.generate_quadrature(order, self.distr, rule=rule,growth= growth)\n",
    "    def plot(self):\n",
    "        pyplot.title(self.rule + \" Growth \" + str(self.growth))\n",
    "        if len(self.order)>1:\n",
    "            p= [pyplot.scatter(quad[0],[ordi] *quad[0].size,s=quad[1]*1e3) for ordi,quad in zip(self.order, self.quadrature)]\n",
    "        else:\n",
    "            p = pyplot.scatter(self.quadrature[0],[self.order]*self.quadrature[0].size,s=self.quadrature[1]*1e3)\n",
    "        return p\n",
    "    def observe(self, model):\n",
    "        obs = []\n",
    "        for nodes in self.quadrature:\n",
    "            obs.append([model(node) for node in nodes[0]])\n",
    "        self.observations = obs"
   ]
  },
  {
   "cell_type": "code",
   "execution_count": 291,
   "id": "informational-banks",
   "metadata": {},
   "outputs": [
    {
     "data": {
      "text/plain": [
       "[<matplotlib.collections.PathCollection at 0x7f4cda0fee50>,\n",
       " <matplotlib.collections.PathCollection at 0x7f4cda0fe310>,\n",
       " <matplotlib.collections.PathCollection at 0x7f4cda81bc50>]"
      ]
     },
     "execution_count": 291,
     "metadata": {},
     "output_type": "execute_result"
    },
    {
     "data": {
      "image/png": "[encoded data removed]",
      "text/plain": [
       "<Figure size 432x288 with 1 Axes>"
      ]
     },
     "metadata": {
      "needs_background": "light"
     },
     "output_type": "display_data"
    }
   ],
   "source": [
    "quadGauss = quadrature(distr)\n",
    "quadGauss.makeQuadrature([1,2,4])\n",
    "quadGauss.plot()"
   ]
  },
  {
   "cell_type": "code",
   "execution_count": 292,
   "id": "packed-obligation",
   "metadata": {},
   "outputs": [
    {
     "data": {
      "text/plain": [
       "[<matplotlib.collections.PathCollection at 0x7f4cd8025190>,\n",
       " <matplotlib.collections.PathCollection at 0x7f4cd8025f50>,\n",
       " <matplotlib.collections.PathCollection at 0x7f4cda1d1bd0>]"
      ]
     },
     "execution_count": 292,
     "metadata": {},
     "output_type": "execute_result"
    },
    {
     "data": {
      "image/png": "[encoded data removed]",
      "text/plain": [
       "<Figure size 432x288 with 1 Axes>"
      ]
     },
     "metadata": {
      "needs_background": "light"
     },
     "output_type": "display_data"
    }
   ],
   "source": [
    "quadGaussGrowth = quadrature(distr)\n",
    "quadGaussGrowth.makeQuadrature([1,2,4],growth=True)\n",
    "quadGaussGrowth.plot()"
   ]
  },
  {
   "cell_type": "code",
   "execution_count": 293,
   "id": "short-dining",
   "metadata": {},
   "outputs": [
    {
     "data": {
      "text/plain": [
       "[<matplotlib.collections.PathCollection at 0x7f4cda383c50>,\n",
       " <matplotlib.collections.PathCollection at 0x7f4cd7f59e50>,\n",
       " <matplotlib.collections.PathCollection at 0x7f4cda535b90>,\n",
       " <matplotlib.collections.PathCollection at 0x7f4cda283c90>]"
      ]
     },
     "execution_count": 293,
     "metadata": {},
     "output_type": "execute_result"
    },
    {
     "data": {
      "image/png": "[encoded data removed]",
      "text/plain": [
       "<Figure size 432x288 with 1 Axes>"
      ]
     },
     "metadata": {
      "needs_background": "light"
     },
     "output_type": "display_data"
    }
   ],
   "source": [
    "quadClen = quadrature(distr)\n",
    "quadClen.makeQuadrature([1,2,3,4],rule = \"clenshaw_curtis\",growth=False)\n",
    "quadClen.plot()"
   ]
  },
  {
   "cell_type": "code",
   "execution_count": 294,
   "id": "invalid-nicaragua",
   "metadata": {},
   "outputs": [
    {
     "data": {
      "text/plain": [
       "[<matplotlib.collections.PathCollection at 0x7f4cda3c4c90>,\n",
       " <matplotlib.collections.PathCollection at 0x7f4cd5435e10>,\n",
       " <matplotlib.collections.PathCollection at 0x7f4cd5435c10>,\n",
       " <matplotlib.collections.PathCollection at 0x7f4cd5435710>]"
      ]
     },
     "execution_count": 294,
     "metadata": {},
     "output_type": "execute_result"
    },
    {
     "data": {
      "image/png": "[encoded data removed]",
      "text/plain": [
       "<Figure size 432x288 with 1 Axes>"
      ]
     },
     "metadata": {
      "needs_background": "light"
     },
     "output_type": "display_data"
    }
   ],
   "source": [
    "quadClenGrowth = quadrature(distr)\n",
    "quadClenGrowth.makeQuadrature([1,2,3,4],rule = \"clenshaw_curtis\",growth=True)\n",
    "quadClenGrowth.plot()"
   ]
  },
  {
   "cell_type": "code",
   "execution_count": 295,
   "id": "requested-tulsa",
   "metadata": {},
   "outputs": [
    {
     "data": {
      "text/plain": [
       "polynomial([1.0, q0-1.2, q0**2-2.4*q0+1.43])"
      ]
     },
     "execution_count": 295,
     "metadata": {},
     "output_type": "execute_result"
    }
   ],
   "source": [
    "expansion = ch.generate_expansion(2, distr)\n",
    "expansion.round(2)"
   ]
  },
  {
   "cell_type": "code",
   "execution_count": 296,
   "id": "powerful-cooking",
   "metadata": {},
   "outputs": [],
   "source": [
    "quadGauss.observe(lift.compute)\n",
    "quadClen.observe(lift.compute)"
   ]
  },
  {
   "cell_type": "code",
   "execution_count": 297,
   "id": "outdoor-offering",
   "metadata": {},
   "outputs": [
    {
     "name": "stdout",
     "output_type": "stream",
     "text": [
      "0.6*q0**2\n"
     ]
    }
   ],
   "source": [
    "order = 2\n",
    "mod= ch.fit_quadrature(expansion,quadGauss.quadrature[order][0] , quadGauss.quadrature[order][1], quadGauss.observations[order][0])\n",
    "print(mod.round(2))"
   ]
  },
  {
   "cell_type": "code",
   "execution_count": 298,
   "id": "still-explorer",
   "metadata": {},
   "outputs": [
    {
     "name": "stdout",
     "output_type": "stream",
     "text": [
      "6.07*q0**2-13.14*q0+7.92\n"
     ]
    }
   ],
   "source": [
    "mod2 =ch.fit_quadrature(expansion,quadClen.quadrature[order][0] , quadClen.quadrature[order][1], quadClen.observations[order][0])\n",
    "print(mod2.round(2))"
   ]
  },
  {
   "cell_type": "code",
   "execution_count": 303,
   "id": "documented-wednesday",
   "metadata": {},
   "outputs": [
    {
     "name": "stdout",
     "output_type": "stream",
     "text": [
      "0.87\n",
      "0.1442497833620551\n"
     ]
    }
   ],
   "source": [
    "print(ch.E(mod, distr))\n",
    "print(ch.Std(mod, distr))"
   ]
  },
  {
   "cell_type": "code",
   "execution_count": 304,
   "id": "institutional-douglas",
   "metadata": {},
   "outputs": [
    {
     "name": "stdout",
     "output_type": "stream",
     "text": [
      "0.9653526000003732\n",
      "0.16767740178023294\n"
     ]
    }
   ],
   "source": [
    "print(ch.E(mod2, distr))\n",
    "print(ch.Std(mod2, distr))"
   ]
  },
  {
   "cell_type": "code",
   "execution_count": null,
   "id": "ethical-general",
   "metadata": {},
   "outputs": [],
   "source": []
  }
 ],
 "metadata": {
  "kernelspec": {
   "display_name": "Python 3",
   "language": "python",
   "name": "python3"
  },
  "language_info": {
   "codemirror_mode": {
    "name": "ipython",
    "version": 3
   },
   "file_extension": ".py",
   "mimetype": "text/x-python",
   "name": "python",
   "nbconvert_exporter": "python",
   "pygments_lexer": "ipython3",
   "version": "3.7.10"
  }
 },
 "nbformat": 4,
 "nbformat_minor": 5
}
