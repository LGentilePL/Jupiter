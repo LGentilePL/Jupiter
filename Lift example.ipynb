{
 "cells": [
  {
   "cell_type": "code",
   "execution_count": 1,
   "id": "hairy-seventh",
   "metadata": {},
   "outputs": [
    {
     "name": "stdout",
     "output_type": "stream",
     "text": [
      "Collecting matplotlib\n",
      "  Downloading matplotlib-3.4.2-cp37-cp37m-manylinux1_x86_64.whl (10.3 MB)\n",
      "\u001b[K     |████████████████████████████████| 10.3 MB 4.4 MB/s eta 0:00:01\n",
      "\u001b[?25hCollecting kiwisolver>=1.0.1\n",
      "  Downloading kiwisolver-1.3.1-cp37-cp37m-manylinux1_x86_64.whl (1.1 MB)\n",
      "\u001b[K     |████████████████████████████████| 1.1 MB 48.0 MB/s eta 0:00:01\n",
      "\u001b[?25hRequirement already satisfied: python-dateutil>=2.7 in /srv/conda/envs/notebook/lib/python3.7/site-packages (from matplotlib) (2.8.1)\n",
      "Requirement already satisfied: pyparsing>=2.2.1 in /srv/conda/envs/notebook/lib/python3.7/site-packages (from matplotlib) (2.4.7)\n",
      "Collecting pillow>=6.2.0\n",
      "  Downloading Pillow-8.2.0-cp37-cp37m-manylinux1_x86_64.whl (3.0 MB)\n",
      "\u001b[K     |████████████████████████████████| 3.0 MB 68.4 MB/s eta 0:00:01\n",
      "\u001b[?25hCollecting cycler>=0.10\n",
      "  Downloading cycler-0.10.0-py2.py3-none-any.whl (6.5 kB)\n",
      "Collecting numpy>=1.16\n",
      "  Downloading numpy-1.20.3-cp37-cp37m-manylinux_2_12_x86_64.manylinux2010_x86_64.whl (15.3 MB)\n",
      "\u001b[K     |████████████████████████████████| 15.3 MB 36.7 MB/s eta 0:00:01\n",
      "\u001b[?25hRequirement already satisfied: six in /srv/conda/envs/notebook/lib/python3.7/site-packages (from cycler>=0.10->matplotlib) (1.15.0)\n",
      "Installing collected packages: pillow, numpy, kiwisolver, cycler, matplotlib\n",
      "Successfully installed cycler-0.10.0 kiwisolver-1.3.1 matplotlib-3.4.2 numpy-1.20.3 pillow-8.2.0\n",
      "Collecting chaospy\n",
      "  Downloading chaospy-4.3.2-py3-none-any.whl (247 kB)\n",
      "\u001b[K     |████████████████████████████████| 247 kB 4.4 MB/s eta 0:00:01\n",
      "\u001b[?25hCollecting numpoly<2.0.0,>=1.1.2\n",
      "  Downloading numpoly-1.2.3-py3-none-any.whl (147 kB)\n",
      "\u001b[K     |████████████████████████████████| 147 kB 8.0 MB/s eta 0:00:01\n",
      "\u001b[?25hCollecting scipy\n",
      "  Downloading scipy-1.7.0-cp37-cp37m-manylinux_2_5_x86_64.manylinux1_x86_64.whl (28.5 MB)\n",
      "\u001b[K     |████████████████████████████████| 28.5 MB 134 kB/s eta 0:00:01\n",
      "\u001b[?25hRequirement already satisfied: numpy in /srv/conda/envs/notebook/lib/python3.7/site-packages (from chaospy) (1.20.3)\n",
      "Installing collected packages: scipy, numpoly, chaospy\n",
      "Successfully installed chaospy-4.3.2 numpoly-1.2.3 scipy-1.7.0\n",
      "Collecting sklearn\n",
      "  Downloading sklearn-0.0.tar.gz (1.1 kB)\n",
      "Collecting scikit-learn\n",
      "  Downloading scikit_learn-0.24.2-cp37-cp37m-manylinux2010_x86_64.whl (22.3 MB)\n",
      "\u001b[K     |████████████████████████████████| 22.3 MB 4.1 MB/s eta 0:00:01███████████████████████▊      | 17.9 MB 4.1 MB/s eta 0:00:02\n",
      "\u001b[?25hCollecting joblib>=0.11\n",
      "  Downloading joblib-1.0.1-py3-none-any.whl (303 kB)\n",
      "\u001b[K     |████████████████████████████████| 303 kB 60.1 MB/s eta 0:00:01\n",
      "\u001b[?25hRequirement already satisfied: numpy>=1.13.3 in /srv/conda/envs/notebook/lib/python3.7/site-packages (from scikit-learn->sklearn) (1.20.3)\n",
      "Collecting threadpoolctl>=2.0.0\n",
      "  Downloading threadpoolctl-2.1.0-py3-none-any.whl (12 kB)\n",
      "Requirement already satisfied: scipy>=0.19.1 in /srv/conda/envs/notebook/lib/python3.7/site-packages (from scikit-learn->sklearn) (1.7.0)\n",
      "Building wheels for collected packages: sklearn\n",
      "  Building wheel for sklearn (setup.py) ... \u001b[?25ldone\n",
      "\u001b[?25h  Created wheel for sklearn: filename=sklearn-0.0-py2.py3-none-any.whl size=1316 sha256=de9870848c6716b03587ae35f233ec71af3dd2416c9930bd56889b7b4eb3254a\n",
      "  Stored in directory: /home/jovyan/.cache/pip/wheels/46/ef/c3/157e41f5ee1372d1be90b09f74f82b10e391eaacca8f22d33e\n",
      "Successfully built sklearn\n",
      "Installing collected packages: threadpoolctl, joblib, scikit-learn, sklearn\n",
      "Successfully installed joblib-1.0.1 scikit-learn-0.24.2 sklearn-0.0 threadpoolctl-2.1.0\n"
     ]
    }
   ],
   "source": [
    "import sys\n",
    "!{sys.executable} -m pip install matplotlib\n",
    "!{sys.executable} -m pip install chaospy\n",
    "!{sys.executable} -m pip install sklearn\n",
    "from sklearn.metrics import mean_squared_error\n",
    "import numpy\n",
    "import chaospy as ch\n",
    "from matplotlib import pyplot"
   ]
  },
  {
   "cell_type": "code",
   "execution_count": 31,
   "id": "temporal-ideal",
   "metadata": {},
   "outputs": [],
   "source": [
    "class liftCompRho(): \n",
    "    def __init__(self,Cl,A,v):\n",
    "        self.CL = Cl\n",
    "        self.A = A\n",
    "        self.v = v\n",
    "    def compute(self,rho):\n",
    "        return (.5 * self.CL * self.A * rho * self.v**2)\n",
    "    \n",
    "class liftCompV(): \n",
    "    def __init__(self,Cl,A,rho):\n",
    "        self.CL = Cl\n",
    "        self.A = A\n",
    "        self.rho = rho\n",
    "    def compute(self,v):\n",
    "        return (.5 * self.CL * self.A * self.rho * v**2)"
   ]
  },
  {
   "cell_type": "code",
   "execution_count": 32,
   "id": "compliant-opinion",
   "metadata": {},
   "outputs": [
    {
     "name": "stdout",
     "output_type": "stream",
     "text": [
      "[1.96858529 2.08428196 1.9684098  ... 2.11202287 2.26204316 1.80670096]\n"
     ]
    }
   ],
   "source": [
    "distr = ch.Normal(2,.3)\n",
    "samples = distr.sample(1e5)\n",
    "print(samples)\n",
    "lift = liftCompRho(.3,1,1)\n",
    "#lift = liftCompV(.3,1,1)"
   ]
  },
  {
   "cell_type": "code",
   "execution_count": 33,
   "id": "colored-adrian",
   "metadata": {},
   "outputs": [
    {
     "name": "stdout",
     "output_type": "stream",
     "text": [
      "[0.29528779348277057, 0.31264229434637136, 0.2952614699839537, 0.23717620622202745, 0.2068161493702736, 0.23568738244491447, 0.2177165398100671, 0.2417513371763404, 0.31119461840913026, 0.2771728778195908]\n"
     ]
    }
   ],
   "source": [
    "obs = [lift.compute(i) for i in samples]\n",
    "print(obs[0:10])"
   ]
  },
  {
   "cell_type": "code",
   "execution_count": 34,
   "id": "persistent-conclusion",
   "metadata": {},
   "outputs": [
    {
     "name": "stdout",
     "output_type": "stream",
     "text": [
      "E 0.2999656800053388\n",
      "sd 0.04517924198621308\n"
     ]
    },
    {
     "data": {
      "image/png": "[encoded data removed]",
      "text/plain": [
       "<Figure size 432x288 with 1 Axes>"
      ]
     },
     "metadata": {
      "needs_background": "light"
     },
     "output_type": "display_data"
    }
   ],
   "source": [
    "pyplot.hist(obs,bins=50)\n",
    "E = numpy.mean(obs)\n",
    "std = numpy.std(obs)\n",
    "print(\"E \" + str(E))\n",
    "print(\"sd \"+ str(std))"
   ]
  },
  {
   "cell_type": "code",
   "execution_count": 35,
   "id": "provincial-credit",
   "metadata": {},
   "outputs": [],
   "source": [
    "class quadrature():\n",
    "    def __init__(self,distr):\n",
    "        self.distr = distr \n",
    "    def makeQuadrature(self,order, rule=\"undefined\", growth=False):\n",
    "        self.rule = rule\n",
    "        self.order = order\n",
    "        self.growth =growth\n",
    "        if isinstance(order, list):\n",
    "            self.quadrature = [ch.generate_quadrature(ord, self.distr, rule=rule,growth= growth) for ord in order]\n",
    "        else:\n",
    "            self.quadrature = ch.generate_quadrature(order, self.distr, rule=rule,growth= growth)\n",
    "    def plot(self):\n",
    "        pyplot.subplot()\n",
    "        pyplot.title(self.rule + \" Growth \" + str(self.growth))\n",
    "        if len(self.order)>1:\n",
    "            p= [pyplot.scatter(quad[0],[ordi] *quad[0].size,s=quad[1]*1e3) for ordi,quad in zip(self.order, self.quadrature)]\n",
    "        else:\n",
    "            p = pyplot.scatter(self.quadrature[0],[self.order]*self.quadrature[0].size,s=self.quadrature[1]*1e3)\n",
    "        return p\n",
    "    def observe(self, model):\n",
    "        obs = []\n",
    "        for nodes in self.quadrature:\n",
    "            obs.append([model(node) for node in nodes[0]])\n",
    "            self.observations = obs\n",
    "        return obs"
   ]
  },
  {
   "cell_type": "code",
   "execution_count": 36,
   "id": "bright-parish",
   "metadata": {},
   "outputs": [
    {
     "name": "stdout",
     "output_type": "stream",
     "text": [
      "Normal(mu=2, sigma=0.3)\n"
     ]
    }
   ],
   "source": [
    "distrProxy = distr\n",
    "#distrProxy = ch.Normal(E-std*.3,E*std*.3)\n",
    "#distrProxy = ch.Uniform(100-.3*3,100+.3*3)\n",
    "print(distrProxy)"
   ]
  },
  {
   "cell_type": "code",
   "execution_count": 37,
   "id": "efficient-trash",
   "metadata": {},
   "outputs": [],
   "source": [
    "quadGauss = quadrature(distrProxy)\n",
    "quadClenGrowth = quadrature(distrProxy)\n",
    "quadGaussGrowth = quadrature(distrProxy)\n",
    "quadClen = quadrature(distrProxy)"
   ]
  },
  {
   "cell_type": "code",
   "execution_count": 39,
   "id": "informational-banks",
   "metadata": {},
   "outputs": [],
   "source": [
    "quadGauss.makeQuadrature([1,2,3,4], rule = \"G\")\n",
    "quadGaussGrowth.makeQuadrature([1,2,3,4], rule = \"G\",growth=True)\n",
    "quadClen.makeQuadrature([1,2,3,4],rule = \"clenshaw_curtis\",growth=False)\n",
    "quadClenGrowth.makeQuadrature([1,2,3,4],rule = \"clenshaw_curtis\",growth=True)"
   ]
  },
  {
   "cell_type": "code",
   "execution_count": 47,
   "id": "flexible-class",
   "metadata": {},
   "outputs": [
    {
     "name": "stdout",
     "output_type": "stream",
     "text": [
      "nodes\n",
      "[[1.48038476 2.         2.51961524]]\n",
      "weigths\n",
      "[0.16666667 0.66666667 0.16666667]\n"
     ]
    }
   ],
   "source": [
    "print(\"nodes\")\n",
    "print(quadGauss.quadrature[1][0])\n",
    "print(\"weigths\")\n",
    "print(quadGauss.quadrature[1][1])"
   ]
  },
  {
   "cell_type": "code",
   "execution_count": 48,
   "id": "packed-obligation",
   "metadata": {},
   "outputs": [
    {
     "data": {
      "text/plain": [
       "[<matplotlib.collections.PathCollection at 0x7f6b111c7bd0>,\n",
       " <matplotlib.collections.PathCollection at 0x7f6b111c7fd0>,\n",
       " <matplotlib.collections.PathCollection at 0x7f6b11157510>,\n",
       " <matplotlib.collections.PathCollection at 0x7f6b11157950>]"
      ]
     },
     "execution_count": 48,
     "metadata": {},
     "output_type": "execute_result"
    },
    {
     "data": {
      "image/png": "[encoded data removed]",
      "text/plain": [
       "<Figure size 432x288 with 1 Axes>"
      ]
     },
     "metadata": {
      "needs_background": "light"
     },
     "output_type": "display_data"
    }
   ],
   "source": [
    "quadGauss.plot()"
   ]
  },
  {
   "cell_type": "code",
   "execution_count": 49,
   "id": "veterinary-details",
   "metadata": {},
   "outputs": [
    {
     "data": {
      "text/plain": [
       "[<matplotlib.collections.PathCollection at 0x7f6b0eb199d0>,\n",
       " <matplotlib.collections.PathCollection at 0x7f6b0eb19d50>,\n",
       " <matplotlib.collections.PathCollection at 0x7f6b0eb19e10>,\n",
       " <matplotlib.collections.PathCollection at 0x7f6b0ebdae10>]"
      ]
     },
     "execution_count": 49,
     "metadata": {},
     "output_type": "execute_result"
    },
    {
     "data": {
      "image/png": "[encoded data removed]",
      "text/plain": [
       "<Figure size 432x288 with 1 Axes>"
      ]
     },
     "metadata": {
      "needs_background": "light"
     },
     "output_type": "display_data"
    }
   ],
   "source": [
    "quadGaussGrowth.plot()"
   ]
  },
  {
   "cell_type": "code",
   "execution_count": 50,
   "id": "short-dining",
   "metadata": {},
   "outputs": [
    {
     "data": {
      "text/plain": [
       "[<matplotlib.collections.PathCollection at 0x7f6b0e77bd50>,\n",
       " <matplotlib.collections.PathCollection at 0x7f6b0e77b410>,\n",
       " <matplotlib.collections.PathCollection at 0x7f6b0eb06c10>,\n",
       " <matplotlib.collections.PathCollection at 0x7f6b0eab05d0>]"
      ]
     },
     "execution_count": 50,
     "metadata": {},
     "output_type": "execute_result"
    },
    {
     "data": {
      "image/png": "[encoded data removed]",
      "text/plain": [
       "<Figure size 432x288 with 1 Axes>"
      ]
     },
     "metadata": {
      "needs_background": "light"
     },
     "output_type": "display_data"
    }
   ],
   "source": [
    "quadClen.plot()"
   ]
  },
  {
   "cell_type": "code",
   "execution_count": 51,
   "id": "invalid-nicaragua",
   "metadata": {},
   "outputs": [
    {
     "data": {
      "text/plain": [
       "[<matplotlib.collections.PathCollection at 0x7f6b0eabb2d0>,\n",
       " <matplotlib.collections.PathCollection at 0x7f6af9bc10d0>,\n",
       " <matplotlib.collections.PathCollection at 0x7f6af9bc1890>,\n",
       " <matplotlib.collections.PathCollection at 0x7f6af9bc1310>]"
      ]
     },
     "execution_count": 51,
     "metadata": {},
     "output_type": "execute_result"
    },
    {
     "data": {
      "image/png": "[encoded data removed]",
      "text/plain": [
       "<Figure size 432x288 with 1 Axes>"
      ]
     },
     "metadata": {
      "needs_background": "light"
     },
     "output_type": "display_data"
    }
   ],
   "source": [
    "quadClenGrowth.plot()"
   ]
  },
  {
   "cell_type": "code",
   "execution_count": 16,
   "id": "requested-tulsa",
   "metadata": {},
   "outputs": [
    {
     "data": {
      "text/plain": [
       "[polynomial([1.0, q0-2.0]),\n",
       " polynomial([1.0, q0-2.0, q0**2-4.0*q0+3.91]),\n",
       " polynomial([1.0, q0-2.0, q0**2-4.0*q0+3.91, q0**3-6.0*q0**2+11.73*q0-7.46]),\n",
       " polynomial([1.0, q0-2.0, q0**2-4.0*q0+3.91, q0**3-6.0*q0**2+11.73*q0-7.46,\n",
       "             q0**4-8.0*q0**3+23.46*q0**2-29.840000000000003*q0+13.8643])]"
      ]
     },
     "execution_count": 16,
     "metadata": {},
     "output_type": "execute_result"
    }
   ],
   "source": [
    "expansion = [ch.generate_expansion(order, distrProxy)for order in range(1, 5)]\n",
    "expansion"
   ]
  },
  {
   "cell_type": "code",
   "execution_count": 17,
   "id": "powerful-cooking",
   "metadata": {},
   "outputs": [
    {
     "data": {
      "text/plain": [
       "[[array([0.0325734, 2.9917734])],\n",
       " [array([0.0325734, 0.6      , 2.9917734])],\n",
       " [array([0.0325734 , 0.08824335, 1.56784335, 2.9917734 ])],\n",
       " [array([0.0325734 , 0.00985151, 0.6       , 2.10232189, 2.9917734 ])]]"
      ]
     },
     "execution_count": 17,
     "metadata": {},
     "output_type": "execute_result"
    }
   ],
   "source": [
    "quadGauss.observe(lift.compute)\n",
    "quadClen.observe(lift.compute)"
   ]
  },
  {
   "cell_type": "code",
   "execution_count": 18,
   "id": "outdoor-offering",
   "metadata": {},
   "outputs": [
    {
     "name": "stdout",
     "output_type": "stream",
     "text": [
      "0.6*q0-0.586\n",
      " Exp -8.34409724131957e-05 STD -0.0009203034055677017\n",
      "0.15*q0**2\n",
      " Exp -8.344097241308468e-05 STD 8.936484450131066e-05\n",
      "0.15*q0**2\n",
      " Exp -8.344097241308468e-05 STD 8.936484450183801e-05\n",
      "0.15*q0**2\n",
      " Exp -8.344097241330672e-05 STD 8.936484450119964e-05\n"
     ]
    },
    {
     "data": {
      "text/plain": [
       "[None, None, None, None]"
      ]
     },
     "execution_count": 18,
     "metadata": {},
     "output_type": "execute_result"
    }
   ],
   "source": [
    "mod= [ch.fit_quadrature(expansion[ind],quadGauss.quadrature[ind][0] , quadGauss.quadrature[ind][1], quadGauss.observations[ind][0]) for ind in range(0, 4)]\n",
    "[print(str(m.round(3)) + \"\\n Exp \"+ str(ch.E(m, distrProxy)-E) + \" STD \"+ str(ch.Std(m, distrProxy)-std) ) for m in mod]"
   ]
  },
  {
   "cell_type": "code",
   "execution_count": 19,
   "id": "still-explorer",
   "metadata": {},
   "outputs": [
    {
     "name": "stdout",
     "output_type": "stream",
     "text": [
      "0.6*q0+0.312\n",
      " Exp 0.8985899590275971 STD -0.0009203034055664805\n",
      "-6.667*q0**2+27.267*q0-26.667\n",
      " Exp -0.013583440972411709 STD 0.6864896342783419\n",
      "0.48*q0**3-2.3*q0**2+3.913*q0-1.688\n",
      " Exp 0.21445990902843304 STD 0.016150687327103647\n",
      "24.544*q0**4-196.131*q0**3+567.825*q0**2-702.573*q0+311.998\n",
      " Exp -0.01358341292789389 STD 1.1233198512657452\n"
     ]
    },
    {
     "data": {
      "text/plain": [
       "[None, None, None, None]"
      ]
     },
     "execution_count": 19,
     "metadata": {},
     "output_type": "execute_result"
    }
   ],
   "source": [
    "mod2= [ch.fit_quadrature(expansion[ind],quadClen.quadrature[ind][0] , quadClen.quadrature[ind][1], quadClen.observations[ind][0]) for ind in range(0, 4)]\n",
    "[print(str(m.round(3)) + \"\\n Exp \"+ str(ch.E(m, distrProxy)-E) + \" STD \"+ str(ch.Std(m, distrProxy)-std) ) for m in mod2]"
   ]
  },
  {
   "cell_type": "code",
   "execution_count": 20,
   "id": "documented-wednesday",
   "metadata": {},
   "outputs": [
    {
     "name": "stdout",
     "output_type": "stream",
     "text": [
      "0.6*q0-0.587\n",
      " Exp -8.344097241330672e-05 STD -0.0009203034055677017\n",
      "0.15*q0**2\n",
      " Exp -8.344097241286264e-05 STD 8.936484450117188e-05\n",
      "0.15*q0**2\n",
      " Exp -8.344097241330672e-05 STD 8.936484450158821e-05\n",
      "0.15*q0**2\n",
      " Exp -8.344097241286264e-05 STD 8.93648445017825e-05\n"
     ]
    },
    {
     "data": {
      "text/plain": [
       "[None, None, None, None]"
      ]
     },
     "execution_count": 20,
     "metadata": {},
     "output_type": "execute_result"
    }
   ],
   "source": [
    "pc_model_approx =[ch.fit_regression(expansion[ind],quadGauss.quadrature[ind][0] , quadGauss.observations[ind][0]) for ind in range(0, 4)]\n",
    "[print(str(m.round(3)) + \"\\n Exp \"+ str(ch.E(m, distrProxy)-E) + \" STD \"+ str(ch.Std(m, distrProxy)-std) ) for m in pc_model_approx]"
   ]
  },
  {
   "cell_type": "code",
   "execution_count": 21,
   "id": "institutional-douglas",
   "metadata": {},
   "outputs": [
    {
     "name": "stdout",
     "output_type": "stream",
     "text": [
      "0.6*q0+0.312\n",
      " Exp 0.8985899590275869 STD -0.0009203034055677017\n",
      "0.15*q0**2\n",
      " Exp -8.344097241286264e-05 STD 8.936484450131066e-05\n",
      "0.15*q0**2\n",
      " Exp -8.344097241286264e-05 STD 8.93648445010331e-05\n",
      "0.15*q0**2\n",
      " Exp -8.344097241330672e-05 STD 8.936484450064452e-05\n"
     ]
    },
    {
     "data": {
      "text/plain": [
       "[None, None, None, None]"
      ]
     },
     "execution_count": 21,
     "metadata": {},
     "output_type": "execute_result"
    }
   ],
   "source": [
    "pc_model_approx =[ch.fit_regression(expansion[ind],quadClen.quadrature[ind][0] , quadClen.observations[ind][0]) for ind in range(0, 4)]\n",
    "[print(str(m.round(3)) + \"\\n Exp \"+ str(ch.E(m, distrProxy)-E) + \" STD \"+ str(ch.Std(m, distrProxy)-std) ) for m in pc_model_approx]"
   ]
  },
  {
   "cell_type": "code",
   "execution_count": 26,
   "id": "parental-database",
   "metadata": {},
   "outputs": [],
   "source": [
    "sobol_samples = [ch.create_sobol_samples(i,1)*1.35 for i in range(1,8)]"
   ]
  },
  {
   "cell_type": "code",
   "execution_count": 27,
   "id": "bearing-appreciation",
   "metadata": {},
   "outputs": [
    {
     "data": {
      "text/plain": [
       "[array([0.06834375]),\n",
       " array([0.06834375, 0.15377344]),\n",
       " array([0.06834375, 0.15377344, 0.01708594]),\n",
       " array([0.06834375, 0.15377344, 0.01708594, 0.03844336]),\n",
       " array([0.06834375, 0.15377344, 0.01708594, 0.03844336, 0.20930273]),\n",
       " array([0.06834375, 0.15377344, 0.01708594, 0.03844336, 0.20930273,\n",
       "        0.10678711]),\n",
       " array([0.06834375, 0.15377344, 0.01708594, 0.03844336, 0.20930273,\n",
       "        0.10678711, 0.00427148])]"
      ]
     },
     "execution_count": 27,
     "metadata": {},
     "output_type": "execute_result"
    }
   ],
   "source": [
    "sobol_obs = [lift.compute(i) for s in sobol_samples for i in s]\n",
    "sobol_obs"
   ]
  },
  {
   "cell_type": "code",
   "execution_count": 28,
   "id": "closing-brave",
   "metadata": {},
   "outputs": [
    {
     "name": "stdout",
     "output_type": "stream",
     "text": [
      "-0.033*q0+0.091\n",
      " Exp -0.5887818986725719 STD -0.17106169034138077\n",
      "-0.138*q0**2+0.487*q0-0.197\n",
      " Exp -0.4035232385334425 STD -0.15415408420087778\n",
      "-0.103*q0**3+0.358*q0**2-0.129*q0+0.024\n",
      " Exp -0.260196978142721 STD -0.14495661404839089\n",
      "-0.036*q0**4+0.09*q0**3+0.069*q0**2+0.031*q0-0.004\n",
      " Exp -0.15248390109632615 STD -0.11213327513228356\n",
      "-0.014*q0**5+0.054*q0**4-0.076*q0**3+0.201*q0**2-0.016*q0+0.002\n",
      " Exp -0.0652140937783845 STD -0.06537551400357264\n",
      "-0.005*q0**6+0.023*q0**5-0.042*q0**4+0.04*q0**3+0.129*q0**2+0.005*q0-0.001\n",
      " Exp -0.033118820889246225 STD -0.03954941848190485\n",
      "-0.001*q0**7+0.007*q0**6-0.013*q0**5+0.013*q0**4-0.008*q0**3+0.152*q0**2\n",
      " Exp -0.020236473336096017 STD -0.02679077810046357\n"
     ]
    },
    {
     "data": {
      "text/plain": [
       "[None, None, None, None, None, None, None]"
      ]
     },
     "execution_count": 28,
     "metadata": {},
     "output_type": "execute_result"
    }
   ],
   "source": [
    "expansion = [ch.generate_expansion(order, distrProxy)for order in range(1, 9)]\n",
    "sobol_mod =[ch.fit_regression(exp,samp , obs) for exp,samp , obs in zip(expansion,sobol_samples , sobol_obs)]\n",
    "[print(str(m.round(3)) + \"\\n Exp \"+ str(ch.E(m, distrProxy)-E) + \" STD \"+ str(ch.Std(m, distrProxy)-std) ) for m in sobol_mod]"
   ]
  },
  {
   "cell_type": "code",
   "execution_count": 29,
   "id": "mighty-scope",
   "metadata": {},
   "outputs": [],
   "source": [
    "sobolMC = [sob_mod(samples) for sob_mod in sobol_mod ]"
   ]
  },
  {
   "cell_type": "code",
   "execution_count": 30,
   "id": "amazing-copying",
   "metadata": {},
   "outputs": [
    {
     "name": "stdout",
     "output_type": "stream",
     "text": [
      "Exp -0.588786366064549 STD -0.17106100686967643\n",
      "Exp -0.40353409675981033 STD -0.1542086166531853\n",
      "Exp -0.2601701806934441 STD -0.14480567494400434\n",
      "Exp -0.15241638478919867 STD -0.11187701291472434\n",
      "Exp -0.06511584564364559 STD -0.06517733095861274\n",
      "Exp -0.03301681392249667 STD -0.03942772654076607\n",
      "Exp -0.020138605234503948 STD -0.026723617766223673\n"
     ]
    },
    {
     "data": {
      "text/plain": [
       "[None, None, None, None, None, None, None]"
      ]
     },
     "execution_count": 30,
     "metadata": {},
     "output_type": "execute_result"
    }
   ],
   "source": [
    "[print(\"Exp \"+ str(numpy.mean(m)- E) + \" STD \"+ str(numpy.std(m)-std) ) for m in sobolMC]"
   ]
  },
  {
   "cell_type": "code",
   "execution_count": null,
   "id": "healthy-letters",
   "metadata": {},
   "outputs": [],
   "source": []
  },
  {
   "cell_type": "code",
   "execution_count": null,
   "id": "mental-fifth",
   "metadata": {},
   "outputs": [],
   "source": []
  }
 ],
 "metadata": {
  "kernelspec": {
   "display_name": "Python 3",
   "language": "python",
   "name": "python3"
  },
  "language_info": {
   "codemirror_mode": {
    "name": "ipython",
    "version": 3
   },
   "file_extension": ".py",
   "mimetype": "text/x-python",
   "name": "python",
   "nbconvert_exporter": "python",
   "pygments_lexer": "ipython3",
   "version": "3.7.10"
  }
 },
 "nbformat": 4,
 "nbformat_minor": 5
}
