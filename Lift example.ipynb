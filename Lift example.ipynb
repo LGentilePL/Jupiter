{
 "cells": [
  {
   "cell_type": "code",
   "execution_count": 557,
   "id": "hairy-seventh",
   "metadata": {},
   "outputs": [
    {
     "name": "stdout",
     "output_type": "stream",
     "text": [
      "Requirement already satisfied: matplotlib in /srv/conda/envs/notebook/lib/python3.7/site-packages (3.4.2)\n",
      "Requirement already satisfied: cycler>=0.10 in /srv/conda/envs/notebook/lib/python3.7/site-packages (from matplotlib) (0.10.0)\n",
      "Requirement already satisfied: pyparsing>=2.2.1 in /srv/conda/envs/notebook/lib/python3.7/site-packages (from matplotlib) (2.4.7)\n",
      "Requirement already satisfied: numpy>=1.16 in /srv/conda/envs/notebook/lib/python3.7/site-packages (from matplotlib) (1.20.3)\n",
      "Requirement already satisfied: pillow>=6.2.0 in /srv/conda/envs/notebook/lib/python3.7/site-packages (from matplotlib) (8.2.0)\n",
      "Requirement already satisfied: kiwisolver>=1.0.1 in /srv/conda/envs/notebook/lib/python3.7/site-packages (from matplotlib) (1.3.1)\n",
      "Requirement already satisfied: python-dateutil>=2.7 in /srv/conda/envs/notebook/lib/python3.7/site-packages (from matplotlib) (2.8.1)\n",
      "Requirement already satisfied: six in /srv/conda/envs/notebook/lib/python3.7/site-packages (from cycler>=0.10->matplotlib) (1.15.0)\n",
      "Requirement already satisfied: chaospy in /srv/conda/envs/notebook/lib/python3.7/site-packages (4.3.2)\n",
      "Requirement already satisfied: scipy in /srv/conda/envs/notebook/lib/python3.7/site-packages (from chaospy) (1.7.0)\n",
      "Requirement already satisfied: numpy in /srv/conda/envs/notebook/lib/python3.7/site-packages (from chaospy) (1.20.3)\n",
      "Requirement already satisfied: numpoly<2.0.0,>=1.1.2 in /srv/conda/envs/notebook/lib/python3.7/site-packages (from chaospy) (1.2.3)\n",
      "Requirement already satisfied: sklearn in /srv/conda/envs/notebook/lib/python3.7/site-packages (0.0)\n",
      "Requirement already satisfied: scikit-learn in /srv/conda/envs/notebook/lib/python3.7/site-packages (from sklearn) (0.24.2)\n",
      "Requirement already satisfied: numpy>=1.13.3 in /srv/conda/envs/notebook/lib/python3.7/site-packages (from scikit-learn->sklearn) (1.20.3)\n",
      "Requirement already satisfied: joblib>=0.11 in /srv/conda/envs/notebook/lib/python3.7/site-packages (from scikit-learn->sklearn) (1.0.1)\n",
      "Requirement already satisfied: threadpoolctl>=2.0.0 in /srv/conda/envs/notebook/lib/python3.7/site-packages (from scikit-learn->sklearn) (2.1.0)\n",
      "Requirement already satisfied: scipy>=0.19.1 in /srv/conda/envs/notebook/lib/python3.7/site-packages (from scikit-learn->sklearn) (1.7.0)\n"
     ]
    }
   ],
   "source": [
    "import sys\n",
    "!{sys.executable} -m pip install matplotlib\n",
    "!{sys.executable} -m pip install chaospy\n",
    "!{sys.executable} -m pip install sklearn\n",
    "from sklearn.metrics import mean_squared_error\n",
    "import numpy\n",
    "import chaospy as ch\n",
    "from matplotlib import pyplot"
   ]
  },
  {
   "cell_type": "code",
   "execution_count": 558,
   "id": "temporal-ideal",
   "metadata": {},
   "outputs": [],
   "source": [
    "class liftCompV(): \n",
    "    def __init__(self,Cl,A,rho):\n",
    "        self.CL = Cl\n",
    "        self.A = A\n",
    "        self.rho = rho\n",
    "    def compute(self,v):\n",
    "        return (.5 * self.CL * self.A * self.rho * v**2)"
   ]
  },
  {
   "cell_type": "code",
   "execution_count": 567,
   "id": "compliant-opinion",
   "metadata": {},
   "outputs": [
    {
     "name": "stdout",
     "output_type": "stream",
     "text": [
      "[2.10968463 2.42777808 1.69741266 ... 1.65171797 2.00217143 2.21383517]\n"
     ]
    }
   ],
   "source": [
    "distr = ch.Normal(2,.3)\n",
    "samples = distr.sample(1e5)\n",
    "print(samples)\n",
    "lift = liftCompRho(.3,1,1)\n",
    "#lift = liftCompV(.3,1,1)"
   ]
  },
  {
   "cell_type": "code",
   "execution_count": 568,
   "id": "colored-adrian",
   "metadata": {},
   "outputs": [
    {
     "name": "stdout",
     "output_type": "stream",
     "text": [
      "[0.3164526942967913, 0.3641667117473206, 0.25461189892281477, 0.32758444355665367, 0.3608026120614128, 0.24461171647423774, 0.35348143878965604, 0.2433942293476354, 0.25950724738440795, 0.30339123400548357]\n"
     ]
    }
   ],
   "source": [
    "obs = [lift.compute(i) for i in samples]\n",
    "print(obs[0:10])"
   ]
  },
  {
   "cell_type": "code",
   "execution_count": 569,
   "id": "persistent-conclusion",
   "metadata": {},
   "outputs": [
    {
     "name": "stdout",
     "output_type": "stream",
     "text": [
      "E 0.30001156416490043\n",
      "sd 0.04512287502118207\n"
     ]
    },
    {
     "data": {
      "image/png": "[encoded data removed]",
      "text/plain": [
       "<Figure size 432x288 with 1 Axes>"
      ]
     },
     "metadata": {
      "needs_background": "light"
     },
     "output_type": "display_data"
    }
   ],
   "source": [
    "pyplot.hist(obs,bins=50)\n",
    "E = numpy.mean(obs)\n",
    "std = numpy.std(obs)\n",
    "print(\"E \" + str(E))\n",
    "print(\"sd \"+ str(std))"
   ]
  },
  {
   "cell_type": "code",
   "execution_count": 570,
   "id": "provincial-credit",
   "metadata": {},
   "outputs": [],
   "source": [
    "class quadrature():\n",
    "    def __init__(self,distr):\n",
    "        self.distr = distr \n",
    "    def makeQuadrature(self,order, rule=\"undefined\", growth=False):\n",
    "        self.rule = rule\n",
    "        self.order = order\n",
    "        self.growth =growth\n",
    "        if isinstance(order, list):\n",
    "            self.quadrature = [ch.generate_quadrature(ord, self.distr, rule=rule,growth= growth) for ord in order]\n",
    "        else:\n",
    "            self.quadrature = ch.generate_quadrature(order, self.distr, rule=rule,growth= growth)\n",
    "    def plot(self):\n",
    "        pyplot.subplot()\n",
    "        pyplot.title(self.rule + \" Growth \" + str(self.growth))\n",
    "        if len(self.order)>1:\n",
    "            p= [pyplot.scatter(quad[0],[ordi] *quad[0].size,s=quad[1]*1e3) for ordi,quad in zip(self.order, self.quadrature)]\n",
    "        else:\n",
    "            p = pyplot.scatter(self.quadrature[0],[self.order]*self.quadrature[0].size,s=self.quadrature[1]*1e3)\n",
    "        return p\n",
    "    def observe(self, model):\n",
    "        obs = []\n",
    "        for nodes in self.quadrature:\n",
    "            obs.append([model(node) for node in nodes[0]])\n",
    "            self.observations = obs\n",
    "        return obs"
   ]
  },
  {
   "cell_type": "code",
   "execution_count": 571,
   "id": "bright-parish",
   "metadata": {},
   "outputs": [
    {
     "name": "stdout",
     "output_type": "stream",
     "text": [
      "Normal(mu=2, sigma=0.3)\n"
     ]
    }
   ],
   "source": [
    "distrProxy = distr\n",
    "#distrProxy = ch.Normal(E-std*.3,E*std*.3)\n",
    "#distrProxy = ch.Uniform(100-.3*3,100+.3*3)\n",
    "print(distrProxy)"
   ]
  },
  {
   "cell_type": "code",
   "execution_count": 572,
   "id": "efficient-trash",
   "metadata": {},
   "outputs": [],
   "source": [
    "quadGauss = quadrature(distrProxy)\n",
    "quadClenGrowth = quadrature(distrProxy)\n",
    "quadGaussGrowth = quadrature(distrProxy)\n",
    "quadClen = quadrature(distrProxy)"
   ]
  },
  {
   "cell_type": "code",
   "execution_count": 607,
   "id": "informational-banks",
   "metadata": {},
   "outputs": [],
   "source": [
    "quadGauss.makeQuadrature([1,2,3,4], rule = \"G\")\n",
    "quadGaussGrowth.makeQuadrature([1,2,3,4], rule = \"G\",growth=True)\n",
    "quadClen.makeQuadrature([1,2,3,4],rule = \"clenshaw_curtis\",growth=False)\n",
    "quadClenGrowth.makeQuadrature([1,2,3,4],rule = \"clenshaw_curtis\",growth=True)"
   ]
  },
  {
   "cell_type": "code",
   "execution_count": 608,
   "id": "flexible-class",
   "metadata": {},
   "outputs": [
    {
     "data": {
      "text/plain": [
       "(array([[1.7, 2.3]]), array([0.5, 0.5]))"
      ]
     },
     "execution_count": 608,
     "metadata": {},
     "output_type": "execute_result"
    }
   ],
   "source": [
    "quadGauss.quadrature[0]"
   ]
  },
  {
   "cell_type": "code",
   "execution_count": 609,
   "id": "packed-obligation",
   "metadata": {},
   "outputs": [
    {
     "data": {
      "text/plain": [
       "[<matplotlib.collections.PathCollection at 0x7f51f906de10>,\n",
       " <matplotlib.collections.PathCollection at 0x7f51f9051710>,\n",
       " <matplotlib.collections.PathCollection at 0x7f51f9051b10>,\n",
       " <matplotlib.collections.PathCollection at 0x7f51f9051a90>]"
      ]
     },
     "execution_count": 609,
     "metadata": {},
     "output_type": "execute_result"
    },
    {
     "data": {
      "image/png": "[encoded data removed]",
      "text/plain": [
       "<Figure size 432x288 with 1 Axes>"
      ]
     },
     "metadata": {
      "needs_background": "light"
     },
     "output_type": "display_data"
    }
   ],
   "source": [
    "quadGauss.plot()"
   ]
  },
  {
   "cell_type": "code",
   "execution_count": 610,
   "id": "veterinary-details",
   "metadata": {},
   "outputs": [
    {
     "data": {
      "text/plain": [
       "[<matplotlib.collections.PathCollection at 0x7f51f8f5bc10>,\n",
       " <matplotlib.collections.PathCollection at 0x7f51f8fbe650>,\n",
       " <matplotlib.collections.PathCollection at 0x7f51f8f5bf90>,\n",
       " <matplotlib.collections.PathCollection at 0x7f51f8f6b450>]"
      ]
     },
     "execution_count": 610,
     "metadata": {},
     "output_type": "execute_result"
    },
    {
     "data": {
      "image/png": "[encoded data removed]",
      "text/plain": [
       "<Figure size 432x288 with 1 Axes>"
      ]
     },
     "metadata": {
      "needs_background": "light"
     },
     "output_type": "display_data"
    }
   ],
   "source": [
    "quadGaussGrowth.plot()"
   ]
  },
  {
   "cell_type": "code",
   "execution_count": 611,
   "id": "short-dining",
   "metadata": {},
   "outputs": [
    {
     "data": {
      "text/plain": [
       "[<matplotlib.collections.PathCollection at 0x7f51f8eee750>,\n",
       " <matplotlib.collections.PathCollection at 0x7f51f8ee0990>,\n",
       " <matplotlib.collections.PathCollection at 0x7f51f8eeeb90>,\n",
       " <matplotlib.collections.PathCollection at 0x7f51f8ee0ad0>]"
      ]
     },
     "execution_count": 611,
     "metadata": {},
     "output_type": "execute_result"
    },
    {
     "data": {
      "image/png": "[encoded data removed]",
      "text/plain": [
       "<Figure size 432x288 with 1 Axes>"
      ]
     },
     "metadata": {
      "needs_background": "light"
     },
     "output_type": "display_data"
    }
   ],
   "source": [
    "quadClen.plot()"
   ]
  },
  {
   "cell_type": "code",
   "execution_count": 612,
   "id": "invalid-nicaragua",
   "metadata": {},
   "outputs": [
    {
     "data": {
      "text/plain": [
       "[<matplotlib.collections.PathCollection at 0x7f51f8e7f410>,\n",
       " <matplotlib.collections.PathCollection at 0x7f51f8e7f750>,\n",
       " <matplotlib.collections.PathCollection at 0x7f51f8e7fc90>,\n",
       " <matplotlib.collections.PathCollection at 0x7f51f8e7fb90>]"
      ]
     },
     "execution_count": 612,
     "metadata": {},
     "output_type": "execute_result"
    },
    {
     "data": {
      "image/png": "[encoded data removed]",
      "text/plain": [
       "<Figure size 432x288 with 1 Axes>"
      ]
     },
     "metadata": {
      "needs_background": "light"
     },
     "output_type": "display_data"
    }
   ],
   "source": [
    "quadClenGrowth.plot()"
   ]
  },
  {
   "cell_type": "code",
   "execution_count": 600,
   "id": "requested-tulsa",
   "metadata": {},
   "outputs": [
    {
     "data": {
      "text/plain": [
       "[polynomial([1.0, q0-2.0]),\n",
       " polynomial([1.0, q0-2.0, q0**2-4.0*q0+3.91]),\n",
       " polynomial([1.0, q0-2.0, q0**2-4.0*q0+3.91, q0**3-6.0*q0**2+11.73*q0-7.46]),\n",
       " polynomial([1.0, q0-2.0, q0**2-4.0*q0+3.91, q0**3-6.0*q0**2+11.73*q0-7.46,\n",
       "             q0**4-8.0*q0**3+23.46*q0**2-29.840000000000003*q0+13.8643])]"
      ]
     },
     "execution_count": 600,
     "metadata": {},
     "output_type": "execute_result"
    }
   ],
   "source": [
    "expansion = [ch.generate_expansion(order, distrProxy)for order in range(1, 5)]\n",
    "expansion"
   ]
  },
  {
   "cell_type": "code",
   "execution_count": 493,
   "id": "powerful-cooking",
   "metadata": {},
   "outputs": [
    {
     "data": {
      "text/plain": [
       "[[array([0.3223734, 1.8019734])],\n",
       " [array([0.3223734, 0.15     , 1.8019734])],\n",
       " [array([0.3223734 , 0.00814335, 0.74794335, 1.8019734 ])],\n",
       " [array([0.3223734, 0.0829691, 0.15     , 1.1292043, 1.8019734])]]"
      ]
     },
     "execution_count": 493,
     "metadata": {},
     "output_type": "execute_result"
    }
   ],
   "source": [
    "quadGauss.observe(lift.compute)\n",
    "quadClen.observe(lift.compute)"
   ]
  },
  {
   "cell_type": "code",
   "execution_count": 500,
   "id": "outdoor-offering",
   "metadata": {},
   "outputs": [
    {
     "name": "stdout",
     "output_type": "stream",
     "text": [
      "0.3*q0-0.136\n",
      " Exp 0.00018378848807612536 STD -0.002402888515611837\n",
      "0.15*q0**2\n",
      " Exp 0.0001837884880761531 STD -0.00040017116443784306\n",
      "0.15*q0**2\n",
      " Exp 0.00018378848807612536 STD -0.00040017116443785694\n",
      "0.15*q0**2\n",
      " Exp 0.00018378848807618087 STD -0.0004001711644378847\n"
     ]
    },
    {
     "data": {
      "text/plain": [
       "[None, None, None, None]"
      ]
     },
     "execution_count": 500,
     "metadata": {},
     "output_type": "execute_result"
    }
   ],
   "source": [
    "mod= [ch.fit_quadrature(expansion[ind],quadGauss.quadrature[ind][0] , quadGauss.quadrature[ind][1], quadGauss.observations[ind][0]) for ind in range(0, 4)]\n",
    "[print(str(m.round(3)) + \"\\n Exp \"+ str(ch.E(m, distrProxy)-E) + \" STD \"+ str(ch.Std(m, distrProxy)-std) ) for m in mod]"
   ]
  },
  {
   "cell_type": "code",
   "execution_count": 501,
   "id": "still-explorer",
   "metadata": {},
   "outputs": [
    {
     "name": "stdout",
     "output_type": "stream",
     "text": [
      "0.3*q0+0.762\n",
      " Exp 0.8988571884880764 STD -0.002402888515611837\n",
      "-1.667*q0**2+3.633*q0-1.667\n",
      " Exp -0.013316211511923276 STD 0.13803148391943587\n",
      "0.24*q0**3-0.456*q0**2+0.426*q0+0.143\n",
      " Exp 0.21472713848892247 STD 0.004980766453815552\n",
      "6.136*q0**4-24.436*q0**3+31.512*q0**2-13.989*q0+1.226\n",
      " Exp -0.013316183467887072 STD 0.2429080367784231\n"
     ]
    },
    {
     "data": {
      "text/plain": [
       "[None, None, None, None]"
      ]
     },
     "execution_count": 501,
     "metadata": {},
     "output_type": "execute_result"
    }
   ],
   "source": [
    "mod2= [ch.fit_quadrature(expansion[ind],quadClen.quadrature[ind][0] , quadClen.quadrature[ind][1], quadClen.observations[ind][0]) for ind in range(0, 4)]\n",
    "[print(str(m.round(3)) + \"\\n Exp \"+ str(ch.E(m, distrProxy)-E) + \" STD \"+ str(ch.Std(m, distrProxy)-std) ) for m in mod2]"
   ]
  },
  {
   "cell_type": "code",
   "execution_count": 502,
   "id": "documented-wednesday",
   "metadata": {},
   "outputs": [
    {
     "name": "stdout",
     "output_type": "stream",
     "text": [
      "0.3*q0-0.137\n",
      " Exp 0.0001837884880760976 STD -0.002402888515611837\n",
      "0.15*q0**2\n",
      " Exp 0.0001837884880760976 STD -0.00040017116443796796\n",
      "0.15*q0**2\n",
      " Exp 0.00018378848807587556 STD -0.00040017116443796796\n",
      "0.15*q0**2\n",
      " Exp 0.0001837884880761531 STD -0.00040017116443805123\n"
     ]
    },
    {
     "data": {
      "text/plain": [
       "[None, None, None, None]"
      ]
     },
     "execution_count": 502,
     "metadata": {},
     "output_type": "execute_result"
    }
   ],
   "source": [
    "pc_model_approx =[ch.fit_regression(expansion[ind],quadGauss.quadrature[ind][0] , quadGauss.observations[ind][0]) for ind in range(0, 4)]\n",
    "[print(str(m.round(3)) + \"\\n Exp \"+ str(ch.E(m, distrProxy)-E) + \" STD \"+ str(ch.Std(m, distrProxy)-std) ) for m in pc_model_approx]"
   ]
  },
  {
   "cell_type": "code",
   "execution_count": 503,
   "id": "institutional-douglas",
   "metadata": {},
   "outputs": [
    {
     "name": "stdout",
     "output_type": "stream",
     "text": [
      "0.3*q0+0.762\n",
      " Exp 0.8988571884880762 STD -0.0024028885156117535\n",
      "0.15*q0**2\n",
      " Exp 0.0001837884880758478 STD -0.0004001711644380235\n",
      "0.15*q0**2\n",
      " Exp 0.0001837884880760421 STD -0.00040017116443803735\n",
      "0.15*q0**2\n",
      " Exp 0.00018378848807637516 STD -0.0004001711644380235\n"
     ]
    },
    {
     "data": {
      "text/plain": [
       "[None, None, None, None]"
      ]
     },
     "execution_count": 503,
     "metadata": {},
     "output_type": "execute_result"
    }
   ],
   "source": [
    "pc_model_approx =[ch.fit_regression(expansion[ind],quadClen.quadrature[ind][0] , quadClen.observations[ind][0]) for ind in range(0, 4)]\n",
    "[print(str(m.round(3)) + \"\\n Exp \"+ str(ch.E(m, distrProxy)-E) + \" STD \"+ str(ch.Std(m, distrProxy)-std) ) for m in pc_model_approx]"
   ]
  },
  {
   "cell_type": "code",
   "execution_count": 512,
   "id": "ethical-general",
   "metadata": {},
   "outputs": [
    {
     "ename": "AttributeError",
     "evalue": "module 'chaospy' has no attribute 'sobol_samples'",
     "output_type": "error",
     "traceback": [
      "\u001b[0;31m---------------------------------------------------------------------------\u001b[0m",
      "\u001b[0;31mAttributeError\u001b[0m                            Traceback (most recent call last)",
      "\u001b[0;32m<ipython-input-512-75a39c163620>\u001b[0m in \u001b[0;36m<module>\u001b[0;34m\u001b[0m\n\u001b[0;32m----> 1\u001b[0;31m \u001b[0msobol_nodes\u001b[0m \u001b[0;34m=\u001b[0m \u001b[0;34m[\u001b[0m\u001b[0mch\u001b[0m\u001b[0;34m.\u001b[0m\u001b[0msobol_samples\u001b[0m\u001b[0;34m[\u001b[0m\u001b[0;34m:\u001b[0m\u001b[0;34m,\u001b[0m \u001b[0mi\u001b[0m\u001b[0;34m]\u001b[0m \u001b[0;32mfor\u001b[0m \u001b[0mi\u001b[0m \u001b[0;32min\u001b[0m \u001b[0mrange\u001b[0m\u001b[0;34m(\u001b[0m\u001b[0;36m3\u001b[0m\u001b[0;34m,\u001b[0m\u001b[0;36m8\u001b[0m\u001b[0;34m)\u001b[0m\u001b[0;34m]\u001b[0m\u001b[0;34m\u001b[0m\u001b[0;34m\u001b[0m\u001b[0m\n\u001b[0m",
      "\u001b[0;32m<ipython-input-512-75a39c163620>\u001b[0m in \u001b[0;36m<listcomp>\u001b[0;34m(.0)\u001b[0m\n\u001b[0;32m----> 1\u001b[0;31m \u001b[0msobol_nodes\u001b[0m \u001b[0;34m=\u001b[0m \u001b[0;34m[\u001b[0m\u001b[0mch\u001b[0m\u001b[0;34m.\u001b[0m\u001b[0msobol_samples\u001b[0m\u001b[0;34m[\u001b[0m\u001b[0;34m:\u001b[0m\u001b[0;34m,\u001b[0m \u001b[0mi\u001b[0m\u001b[0;34m]\u001b[0m \u001b[0;32mfor\u001b[0m \u001b[0mi\u001b[0m \u001b[0;32min\u001b[0m \u001b[0mrange\u001b[0m\u001b[0;34m(\u001b[0m\u001b[0;36m3\u001b[0m\u001b[0;34m,\u001b[0m\u001b[0;36m8\u001b[0m\u001b[0;34m)\u001b[0m\u001b[0;34m]\u001b[0m\u001b[0;34m\u001b[0m\u001b[0;34m\u001b[0m\u001b[0m\n\u001b[0m",
      "\u001b[0;31mAttributeError\u001b[0m: module 'chaospy' has no attribute 'sobol_samples'"
     ]
    }
   ],
   "source": [
    "sobol_nodes = [ch.sobol_samples[:, i] for i in range(3,8)]"
   ]
  },
  {
   "cell_type": "code",
   "execution_count": 552,
   "id": "parental-database",
   "metadata": {},
   "outputs": [],
   "source": [
    "sobol_samples = [ch.create_sobol_samples(i,1)*1.35 for i in range(1,8)]"
   ]
  },
  {
   "cell_type": "code",
   "execution_count": 553,
   "id": "bearing-appreciation",
   "metadata": {},
   "outputs": [
    {
     "data": {
      "text/plain": [
       "[array([0.06834375]),\n",
       " array([0.06834375, 0.15377344]),\n",
       " array([0.06834375, 0.15377344, 0.01708594]),\n",
       " array([0.06834375, 0.15377344, 0.01708594, 0.03844336]),\n",
       " array([0.06834375, 0.15377344, 0.01708594, 0.03844336, 0.20930273]),\n",
       " array([0.06834375, 0.15377344, 0.01708594, 0.03844336, 0.20930273,\n",
       "        0.10678711]),\n",
       " array([0.06834375, 0.15377344, 0.01708594, 0.03844336, 0.20930273,\n",
       "        0.10678711, 0.00427148])]"
      ]
     },
     "execution_count": 553,
     "metadata": {},
     "output_type": "execute_result"
    }
   ],
   "source": [
    "sobol_obs = [lift.compute(i) for s in sobol_samples for i in s]\n",
    "sobol_obs"
   ]
  },
  {
   "cell_type": "code",
   "execution_count": 554,
   "id": "closing-brave",
   "metadata": {},
   "outputs": [
    {
     "name": "stdout",
     "output_type": "stream",
     "text": [
      "-0.02*q0+0.082\n",
      " Exp -0.10150162700090065 STD -0.08637596652578713\n",
      "-0.083*q0**2+0.394*q0-0.159\n",
      " Exp -0.019865010186323168 STD -0.023454352031838488\n",
      "-0.138*q0**3+0.43*q0**2-0.173*q0+0.032\n",
      " Exp -0.011592995130938782 STD -0.02142924528828942\n",
      "-0.07*q0**4+0.178*q0**3-0.01*q0**2+0.061*q0-0.008\n",
      " Exp -0.005773267079348082 STD -0.012090886371980206\n",
      "-0.035*q0**5+0.129*q0**4-0.183*q0**3+0.273*q0**2-0.04*q0+0.005\n",
      " Exp -0.0008275200366255342 STD -0.0031003380518445783\n",
      "-0.017*q0**6+0.079*q0**5-0.146*q0**4+0.139*q0**3+0.078*q0**2+0.019*q0-0.002\n",
      " Exp -0.00023115405208629092 STD -0.0016063923564431093\n",
      "-0.006*q0**7+0.03*q0**6-0.059*q0**5+0.061*q0**4-0.035*q0**3+0.162*q0**2-0.002*q0\n",
      " Exp -5.017978028543091e-05 STD -0.0011333244999523623\n"
     ]
    },
    {
     "data": {
      "text/plain": [
       "[None, None, None, None, None, None, None]"
      ]
     },
     "execution_count": 554,
     "metadata": {},
     "output_type": "execute_result"
    }
   ],
   "source": [
    "expansion = [ch.generate_expansion(order, distrProxy)for order in range(1, 9)]\n",
    "sobol_mod =[ch.fit_regression(exp,samp , obs) for exp,samp , obs in zip(expansion,sobol_samples , sobol_obs)]\n",
    "[print(str(m.round(3)) + \"\\n Exp \"+ str(ch.E(m, distrProxy)-E) + \" STD \"+ str(ch.Std(m, distrProxy)-std) ) for m in sobol_mod]"
   ]
  },
  {
   "cell_type": "code",
   "execution_count": 555,
   "id": "mighty-scope",
   "metadata": {},
   "outputs": [],
   "source": [
    "sobolMC = [sob_mod(samples) for sob_mod in sobol_mod ]"
   ]
  },
  {
   "cell_type": "code",
   "execution_count": 556,
   "id": "amazing-copying",
   "metadata": {},
   "outputs": [
    {
     "name": "stdout",
     "output_type": "stream",
     "text": [
      "Exp -0.10148058517577535 STD -0.08634695879162878\n",
      "Exp -0.020175295193572362 STD -0.023088821504203272\n",
      "Exp -0.011836567546546495 STD -0.021176097296037186\n",
      "Exp -0.005998644364946737 STD -0.011796510859182041\n",
      "Exp -0.0010248869630519186 STD -0.0027294138257708406\n",
      "Exp -0.00042015402627040843 STD -0.0012164986218460572\n",
      "Exp -0.00023694188273823413 STD -0.0007356342774588742\n"
     ]
    },
    {
     "data": {
      "text/plain": [
       "[None, None, None, None, None, None, None]"
      ]
     },
     "execution_count": 556,
     "metadata": {},
     "output_type": "execute_result"
    }
   ],
   "source": [
    "[print(\"Exp \"+ str(numpy.mean(m)- E) + \" STD \"+ str(numpy.std(m)-std) ) for m in sobolMC]"
   ]
  },
  {
   "cell_type": "code",
   "execution_count": null,
   "id": "healthy-letters",
   "metadata": {},
   "outputs": [],
   "source": []
  },
  {
   "cell_type": "code",
   "execution_count": null,
   "id": "mental-fifth",
   "metadata": {},
   "outputs": [],
   "source": []
  }
 ],
 "metadata": {
  "kernelspec": {
   "display_name": "Python 3",
   "language": "python",
   "name": "python3"
  },
  "language_info": {
   "codemirror_mode": {
    "name": "ipython",
    "version": 3
   },
   "file_extension": ".py",
   "mimetype": "text/x-python",
   "name": "python",
   "nbconvert_exporter": "python",
   "pygments_lexer": "ipython3",
   "version": "3.7.10"
  }
 },
 "nbformat": 4,
 "nbformat_minor": 5
}
